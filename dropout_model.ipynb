{
 "cells": [
  {
   "cell_type": "code",
   "execution_count": 14,
   "metadata": {},
   "outputs": [],
   "source": [
    "import pandas as pd\n",
    "import numpy as np\n",
    "from sklearn.model_selection import train_test_split\n",
    "from sklearn.linear_model import LogisticRegression\n",
    "from sklearn.metrics import accuracy_score, classification_report, confusion_matrix, roc_curve, roc_auc_score\n",
    "from sklearn.preprocessing import StandardScaler\n",
    "from matplotlib import pyplot as plt"
   ]
  },
  {
   "cell_type": "code",
   "execution_count": 15,
   "metadata": {},
   "outputs": [
    {
     "data": {
      "text/html": [
       "<div>\n",
       "<style scoped>\n",
       "    .dataframe tbody tr th:only-of-type {\n",
       "        vertical-align: middle;\n",
       "    }\n",
       "\n",
       "    .dataframe tbody tr th {\n",
       "        vertical-align: top;\n",
       "    }\n",
       "\n",
       "    .dataframe thead th {\n",
       "        text-align: right;\n",
       "    }\n",
       "</style>\n",
       "<table border=\"1\" class=\"dataframe\">\n",
       "  <thead>\n",
       "    <tr style=\"text-align: right;\">\n",
       "      <th></th>\n",
       "      <th>Tuition fees up to date</th>\n",
       "      <th>Scholarship holder</th>\n",
       "      <th>Gender</th>\n",
       "      <th>Curricular units 1st sem (approved/enrolled)</th>\n",
       "      <th>Target</th>\n",
       "    </tr>\n",
       "  </thead>\n",
       "  <tbody>\n",
       "    <tr>\n",
       "      <th>0</th>\n",
       "      <td>1.0</td>\n",
       "      <td>0.0</td>\n",
       "      <td>1.0</td>\n",
       "      <td>0.0</td>\n",
       "      <td>1.0</td>\n",
       "    </tr>\n",
       "    <tr>\n",
       "      <th>1</th>\n",
       "      <td>0.0</td>\n",
       "      <td>0.0</td>\n",
       "      <td>1.0</td>\n",
       "      <td>1.0</td>\n",
       "      <td>0.0</td>\n",
       "    </tr>\n",
       "    <tr>\n",
       "      <th>2</th>\n",
       "      <td>0.0</td>\n",
       "      <td>0.0</td>\n",
       "      <td>1.0</td>\n",
       "      <td>0.0</td>\n",
       "      <td>1.0</td>\n",
       "    </tr>\n",
       "  </tbody>\n",
       "</table>\n",
       "</div>"
      ],
      "text/plain": [
       "   Tuition fees up to date  Scholarship holder  Gender  \\\n",
       "0                      1.0                 0.0     1.0   \n",
       "1                      0.0                 0.0     1.0   \n",
       "2                      0.0                 0.0     1.0   \n",
       "\n",
       "   Curricular units 1st sem (approved/enrolled)  Target  \n",
       "0                                           0.0     1.0  \n",
       "1                                           1.0     0.0  \n",
       "2                                           0.0     1.0  "
      ]
     },
     "execution_count": 15,
     "metadata": {},
     "output_type": "execute_result"
    }
   ],
   "source": [
    "df = pd.read_csv(r'C:\\Users\\Katia\\Documents\\UofT\\STATS\\final_project\\df_cleaned.csv')\n",
    "df.head(3)"
   ]
  },
  {
   "cell_type": "code",
   "execution_count": 23,
   "metadata": {},
   "outputs": [
    {
     "name": "stdout",
     "output_type": "stream",
     "text": [
      "Train score:  0.8756395120031484\n",
      "Test score:  0.8659320477502296 \n",
      "\n",
      "Accuracy:  0.8659320477502296 \n",
      "\n",
      "Confusion Matrix:\n",
      " [[621  37]\n",
      " [109 322]] \n",
      "\n",
      "Classification Report:\n",
      "               precision    recall  f1-score   support\n",
      "\n",
      "         0.0       0.85      0.94      0.89       658\n",
      "         1.0       0.90      0.75      0.82       431\n",
      "\n",
      "    accuracy                           0.87      1089\n",
      "   macro avg       0.87      0.85      0.86      1089\n",
      "weighted avg       0.87      0.87      0.86      1089\n",
      " \n",
      "\n"
     ]
    }
   ],
   "source": [
    "# Split the data into training and testing sets\n",
    "X_train, X_test, y_train, y_test = train_test_split(df[['Tuition fees up to date','Scholarship holder','Gender','Curricular units 1st sem (approved/enrolled)']], \n",
    "                                                    df['Target'], \n",
    "                                                    test_size=0.3, \n",
    "                                                    random_state=13)\n",
    "# Scale the data\n",
    "scaler = StandardScaler()\n",
    "X_train_scaled = scaler.fit_transform(X_train)\n",
    "X_test_scaled = scaler.transform(X_test)\n",
    "\n",
    "# Scaled data from array to dataframe\n",
    "X_train_scaled = pd.DataFrame(X_train_scaled, columns=['Tuition fees up to date','Scholarship holder','Gender','Curricular units 1st sem (approved/enrolled)'])\n",
    "X_test_scaled = pd.DataFrame(X_test_scaled, columns=['Tuition fees up to date','Scholarship holder','Gender','Curricular units 1st sem (approved/enrolled)'])\n",
    "\n",
    "# Create a logistic regression model (no incercept)\n",
    "logistic_reg_model = LogisticRegression(random_state=13,\n",
    "                                        # C=10**5,\n",
    "                                        fit_intercept=False)\n",
    "\n",
    "# Train the model\n",
    "logistic_reg_model.fit(X_train_scaled, y_train)\n",
    "\n",
    "# Make predictions on the testing data\n",
    "y_pred = logistic_reg_model.predict(X_test_scaled)\n",
    "\n",
    "# Accuracy of predictions on training data\n",
    "y_score_train = logistic_reg_model.score(X_train_scaled, y_train)\n",
    "# Accuracy of predictions on testing data\n",
    "y_score_test = logistic_reg_model.score(X_test_scaled, y_test)\n",
    "\n",
    "# Coefficients\n",
    "logistic_reg_model.get_params\n",
    "\n",
    "# How well is the model predicting\n",
    "print('Train score: ', y_score_train)\n",
    "print('Test score: ', y_score_test, '\\n')\n",
    "\n",
    "# Evaluate the model\n",
    "accuracy = accuracy_score(y_test, y_pred)\n",
    "conf_matrix = confusion_matrix(y_test, y_pred)\n",
    "classification_rep = classification_report(y_test, y_pred)\n",
    "\n",
    "# Evaluation metrics\n",
    "print('Accuracy: ', accuracy, '\\n')\n",
    "print('Confusion Matrix:\\n', conf_matrix, '\\n')\n",
    "print('Classification Report:\\n', classification_rep, '\\n')"
   ]
  },
  {
   "cell_type": "code",
   "execution_count": null,
   "metadata": {},
   "outputs": [],
   "source": [
    "[[True Negative (TN) = 621, False Positive (FP)=37]\n",
    " [False Negative (FN) = 109, True Positive (TP)=322]]\n",
    "\n",
    "Recall: The ability of a model to find all the relevant cases within a data set. \n",
    "    Mathematically, we define recall as the number of true positives divided by the number of true positives plus the number of false negatives.\n",
    "    Recall = TP/ (TP + FN) -- Proportion of positives we were able to identify correctly\n",
    "    Recall = 322/(322+109) = 74.7%\n",
    "    Quantity \n",
    "Precision: The ability of a classification model to identify only the relevant data points. \n",
    "    Mathematically, precision is the number of true positives divided by the number of true positives plus the number of false positives.\n",
    "    Precision = TP / (TP + FP) -- Proportion of accurate positive predictions\n",
    "    Precision = 322/(322+37) = 89.7%\n",
    "    Quality\n",
    "\n",
    "N = TP + TN + FN + FP\n",
    "\n",
    "# POSITIVES IN SAMPLE = TP + FN\n",
    "# POSITVES FLAGGED = TP + FP\n",
    "\n",
    "\n"
   ]
  },
  {
   "cell_type": "code",
   "execution_count": 27,
   "metadata": {},
   "outputs": [
    {
     "name": "stdout",
     "output_type": "stream",
     "text": [
      "intercept  0.0\n",
      "classes [0. 1.]\n"
     ]
    },
    {
     "data": {
      "text/html": [
       "<div>\n",
       "<style scoped>\n",
       "    .dataframe tbody tr th:only-of-type {\n",
       "        vertical-align: middle;\n",
       "    }\n",
       "\n",
       "    .dataframe tbody tr th {\n",
       "        vertical-align: top;\n",
       "    }\n",
       "\n",
       "    .dataframe thead th {\n",
       "        text-align: right;\n",
       "    }\n",
       "</style>\n",
       "<table border=\"1\" class=\"dataframe\">\n",
       "  <thead>\n",
       "    <tr style=\"text-align: right;\">\n",
       "      <th></th>\n",
       "      <th>coeff</th>\n",
       "      <th>probability %</th>\n",
       "    </tr>\n",
       "  </thead>\n",
       "  <tbody>\n",
       "    <tr>\n",
       "      <th>Tuition fees up to date</th>\n",
       "      <td>-1.196692</td>\n",
       "      <td>30.22</td>\n",
       "    </tr>\n",
       "    <tr>\n",
       "      <th>Scholarship holder</th>\n",
       "      <td>-0.461859</td>\n",
       "      <td>63.01</td>\n",
       "    </tr>\n",
       "    <tr>\n",
       "      <th>Gender</th>\n",
       "      <td>0.188952</td>\n",
       "      <td>20.80</td>\n",
       "    </tr>\n",
       "    <tr>\n",
       "      <th>Curricular units 1st sem (approved/enrolled)</th>\n",
       "      <td>-1.861610</td>\n",
       "      <td>15.54</td>\n",
       "    </tr>\n",
       "  </tbody>\n",
       "</table>\n",
       "</div>"
      ],
      "text/plain": [
       "                                                 coeff  probability %\n",
       "Tuition fees up to date                      -1.196692          30.22\n",
       "Scholarship holder                           -0.461859          63.01\n",
       "Gender                                        0.188952          20.80\n",
       "Curricular units 1st sem (approved/enrolled) -1.861610          15.54"
      ]
     },
     "execution_count": 27,
     "metadata": {},
     "output_type": "execute_result"
    }
   ],
   "source": [
    "print('intercept ', logistic_reg_model.intercept_[0])\n",
    "print('classes', logistic_reg_model.classes_)\n",
    "coef_df = pd.DataFrame({'coeff': logistic_reg_model.coef_[0]}, \n",
    "             index=X_train_scaled.columns)\n",
    "coef_df['probability %'] =  coef_df['coeff'].apply(lambda x: np.round(100* np.exp(x),2) if x<0 else np.round(100* (np.exp(x)-1),2))\n",
    "\n",
    "coef_df\n",
    "\n",
    "# Tuition up to date: Being up to date with tuition reduces the chances of dropping out by almost 20%. \n",
    "#   I.e. Students who aren't up tp date on tuition payments are 20% more likely to dropout.\n",
    "# Scholarship: Holding a scholarship reduces the chances of dropping out by approximately 60%. \n",
    "#   I.e. Students who don't have a scholarship are 60% more likely to dropout.\n",
    "# Courses approved 1st semester: For every course approved in the 1st semester, the chances of dropping out decrease by 17%. \n",
    "#   I.e. For every course not passed,  are 20% more likely to dropout.\n"
   ]
  },
  {
   "cell_type": "code",
   "execution_count": 31,
   "metadata": {},
   "outputs": [
    {
     "data": {
      "image/png": "[encoded data removed]",
      "text/plain": [
       "<Figure size 600x400 with 1 Axes>"
      ]
     },
     "metadata": {},
     "output_type": "display_data"
    }
   ],
   "source": [
    "# Receiver Operating Characteristic(ROC) curve is a plot of the true positive rate against the false positive rate. \n",
    "# It shows the tradeoff between sensitivity and specificity.\n",
    "# The ROC curve plots recall (sensitivity) on the y-axis against specificity on the x-axis\n",
    "y_pred_probability = logistic_reg_model.predict_proba(X_test_scaled)[::,1]\n",
    "fpr, tpr, _ = roc_curve(y_test,  y_pred_probability)\n",
    "auc = roc_auc_score(y_test, y_pred_probability)\n",
    "\n",
    "fig = plt.figure(figsize = (6,4))\n",
    "\n",
    "plt.plot(fpr,tpr,label=\"data 1, auc=\"+str(auc))\n",
    "plt.ylabel('Recall: True positive rate = TP / P')\n",
    "plt.xlabel('Specificity: False positive rate = FP / N')\n",
    "plt.legend(loc=4)\n",
    "plt.show()"
   ]
  },
  {
   "cell_type": "code",
   "execution_count": null,
   "metadata": {},
   "outputs": [],
   "source": [
    "\n"
   ]
  }
 ],
 "metadata": {
  "kernelspec": {
   "display_name": "base",
   "language": "python",
   "name": "python3"
  },
  "language_info": {
   "codemirror_mode": {
    "name": "ipython",
    "version": 3
   },
   "file_extension": ".py",
   "mimetype": "text/x-python",
   "name": "python",
   "nbconvert_exporter": "python",
   "pygments_lexer": "ipython3",
   "version": "3.11.5"
  }
 },
 "nbformat": 4,
 "nbformat_minor": 2
}
