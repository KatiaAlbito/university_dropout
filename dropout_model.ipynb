{
 "cells": [
  {
   "cell_type": "code",
   "execution_count": 1,
   "metadata": {},
   "outputs": [],
   "source": [
    "import pandas as pd\n",
    "from sklearn.model_selection import train_test_split\n",
    "from sklearn.linear_model import LogisticRegression\n",
    "from sklearn.metrics import accuracy_score, classification_report, confusion_matrix, roc_curve, roc_auc_score\n",
    "from sklearn.preprocessing import StandardScaler\n",
    "from matplotlib import pyplot as plt"
   ]
  },
  {
   "cell_type": "code",
   "execution_count": 2,
   "metadata": {},
   "outputs": [
    {
     "data": {
      "text/html": [
       "<div>\n",
       "<style scoped>\n",
       "    .dataframe tbody tr th:only-of-type {\n",
       "        vertical-align: middle;\n",
       "    }\n",
       "\n",
       "    .dataframe tbody tr th {\n",
       "        vertical-align: top;\n",
       "    }\n",
       "\n",
       "    .dataframe thead th {\n",
       "        text-align: right;\n",
       "    }\n",
       "</style>\n",
       "<table border=\"1\" class=\"dataframe\">\n",
       "  <thead>\n",
       "    <tr style=\"text-align: right;\">\n",
       "      <th></th>\n",
       "      <th>Tuition fees up to date</th>\n",
       "      <th>Scholarship holder</th>\n",
       "      <th>Curricular units 1st sem (approved)</th>\n",
       "      <th>Target</th>\n",
       "    </tr>\n",
       "  </thead>\n",
       "  <tbody>\n",
       "    <tr>\n",
       "      <th>0</th>\n",
       "      <td>1.0</td>\n",
       "      <td>0.0</td>\n",
       "      <td>0</td>\n",
       "      <td>1.0</td>\n",
       "    </tr>\n",
       "    <tr>\n",
       "      <th>1</th>\n",
       "      <td>0.0</td>\n",
       "      <td>0.0</td>\n",
       "      <td>6</td>\n",
       "      <td>0.0</td>\n",
       "    </tr>\n",
       "    <tr>\n",
       "      <th>2</th>\n",
       "      <td>0.0</td>\n",
       "      <td>0.0</td>\n",
       "      <td>0</td>\n",
       "      <td>1.0</td>\n",
       "    </tr>\n",
       "  </tbody>\n",
       "</table>\n",
       "</div>"
      ],
      "text/plain": [
       "   Tuition fees up to date  Scholarship holder  \\\n",
       "0                      1.0                 0.0   \n",
       "1                      0.0                 0.0   \n",
       "2                      0.0                 0.0   \n",
       "\n",
       "   Curricular units 1st sem (approved)  Target  \n",
       "0                                    0     1.0  \n",
       "1                                    6     0.0  \n",
       "2                                    0     1.0  "
      ]
     },
     "execution_count": 2,
     "metadata": {},
     "output_type": "execute_result"
    }
   ],
   "source": [
    "df = pd.read_csv(r'C:\\Users\\Katia\\Documents\\UofT\\STATS\\final_project\\df_cleaned.csv')\n",
    "df.head(3)"
   ]
  },
  {
   "cell_type": "code",
   "execution_count": 3,
   "metadata": {},
   "outputs": [
    {
     "name": "stdout",
     "output_type": "stream",
     "text": [
      "Train score:  0.8654073199527745\n",
      "Test score:  0.8512396694214877 \n",
      "\n",
      "Accuracy:  0.8512396694214877 \n",
      "\n",
      "Confusion Matrix:\n",
      " [[591  67]\n",
      " [ 95 336]] \n",
      "\n",
      "Classification Report:\n",
      "               precision    recall  f1-score   support\n",
      "\n",
      "         0.0       0.86      0.90      0.88       658\n",
      "         1.0       0.83      0.78      0.81       431\n",
      "\n",
      "    accuracy                           0.85      1089\n",
      "   macro avg       0.85      0.84      0.84      1089\n",
      "weighted avg       0.85      0.85      0.85      1089\n",
      " \n",
      "\n"
     ]
    }
   ],
   "source": [
    "# Split the data into training and testing sets\n",
    "X_train, X_test, y_train, y_test = train_test_split(df[['Tuition fees up to date','Scholarship holder','Curricular units 1st sem (approved)']], \n",
    "                                                    df['Target'], \n",
    "                                                    test_size=0.3, \n",
    "                                                    random_state=13)\n",
    "# Scale the data\n",
    "scaler = StandardScaler()\n",
    "X_train_scaled = scaler.fit_transform(X_train)\n",
    "X_test_scaled = scaler.transform(X_test)\n",
    "\n",
    "# Scaled data from array to dataframe\n",
    "X_train_scaled = pd.DataFrame(X_train_scaled, columns=['Tuition fees up to date','Scholarship holder','Curricular units 1st sem (approved)'])\n",
    "X_test_scaled = pd.DataFrame(X_test_scaled, columns=['Tuition fees up to date','Scholarship holder','Curricular units 1st sem (approved)'])\n",
    "\n",
    "# Create a logistic regression model (no incercept)\n",
    "logistic_reg_model = LogisticRegression(random_state=13,\n",
    "                                        # C=6,\n",
    "                                        fit_intercept=False)\n",
    "\n",
    "# Train the model\n",
    "logistic_reg_model.fit(X_train_scaled, y_train)\n",
    "\n",
    "# Make predictions on the testing data\n",
    "y_pred = logistic_reg_model.predict(X_test_scaled)\n",
    "\n",
    "# Accuracy of predictions on training data\n",
    "y_score_train = logistic_reg_model.score(X_train_scaled, y_train)\n",
    "# Accuracy of predictions on testing data\n",
    "y_score_test = logistic_reg_model.score(X_test_scaled, y_test)\n",
    "\n",
    "# Coefficients\n",
    "logistic_reg_model.get_params\n",
    "\n",
    "# How well is the model predicting\n",
    "print('Train score: ', y_score_train)\n",
    "print('Test score: ', y_score_test, '\\n')\n",
    "\n",
    "# Evaluate the model\n",
    "accuracy = accuracy_score(y_test, y_pred)\n",
    "conf_matrix = confusion_matrix(y_test, y_pred)\n",
    "classification_rep = classification_report(y_test, y_pred)\n",
    "\n",
    "# Evaluation metrics\n",
    "print('Accuracy: ', accuracy, '\\n')\n",
    "print('Confusion Matrix:\\n', conf_matrix, '\\n')\n",
    "print('Classification Report:\\n', classification_rep, '\\n')"
   ]
  },
  {
   "cell_type": "code",
   "execution_count": 9,
   "metadata": {},
   "outputs": [
    {
     "name": "stdout",
     "output_type": "stream",
     "text": [
      "intercept  0.0\n",
      "classes [0. 1.]\n"
     ]
    },
    {
     "data": {
      "text/html": [
       "<div>\n",
       "<style scoped>\n",
       "    .dataframe tbody tr th:only-of-type {\n",
       "        vertical-align: middle;\n",
       "    }\n",
       "\n",
       "    .dataframe tbody tr th {\n",
       "        vertical-align: top;\n",
       "    }\n",
       "\n",
       "    .dataframe thead th {\n",
       "        text-align: right;\n",
       "    }\n",
       "</style>\n",
       "<table border=\"1\" class=\"dataframe\">\n",
       "  <thead>\n",
       "    <tr style=\"text-align: right;\">\n",
       "      <th></th>\n",
       "      <th>coeff</th>\n",
       "    </tr>\n",
       "  </thead>\n",
       "  <tbody>\n",
       "    <tr>\n",
       "      <th>Tuition fees up to date</th>\n",
       "      <td>-1.616277</td>\n",
       "    </tr>\n",
       "    <tr>\n",
       "      <th>Scholarship holder</th>\n",
       "      <td>-0.505821</td>\n",
       "    </tr>\n",
       "    <tr>\n",
       "      <th>Curricular units 1st sem (approved)</th>\n",
       "      <td>-1.758803</td>\n",
       "    </tr>\n",
       "  </tbody>\n",
       "</table>\n",
       "</div>"
      ],
      "text/plain": [
       "                                        coeff\n",
       "Tuition fees up to date             -1.616277\n",
       "Scholarship holder                  -0.505821\n",
       "Curricular units 1st sem (approved) -1.758803"
      ]
     },
     "execution_count": 9,
     "metadata": {},
     "output_type": "execute_result"
    }
   ],
   "source": [
    "print('intercept ', logistic_reg_model.intercept_[0])\n",
    "print('classes', logistic_reg_model.classes_)\n",
    "pd.DataFrame({'coeff': logistic_reg_model.coef_[0]}, \n",
    "             index=X_train_scaled.columns)"
   ]
  },
  {
   "cell_type": "code",
   "execution_count": 4,
   "metadata": {},
   "outputs": [
    {
     "data": {
      "image/png": "[encoded data removed]",
      "text/plain": [
       "<Figure size 600x400 with 1 Axes>"
      ]
     },
     "metadata": {},
     "output_type": "display_data"
    }
   ],
   "source": [
    "# Receiver Operating Characteristic(ROC) curve is a plot of the true positive rate against the false positive rate. \n",
    "# It shows the tradeoff between sensitivity and specificity.\n",
    "y_pred_probability = logistic_reg_model.predict_proba(X_test_scaled)[::,1]\n",
    "fpr, tpr, _ = roc_curve(y_test,  y_pred_probability)\n",
    "auc = roc_auc_score(y_test, y_pred_probability)\n",
    "\n",
    "fig = plt.figure(figsize = (6,4))\n",
    "\n",
    "plt.plot(fpr,tpr,label=\"data 1, auc=\"+str(auc))\n",
    "plt.legend(loc=4)\n",
    "plt.show()"
   ]
  },
  {
   "cell_type": "code",
   "execution_count": null,
   "metadata": {},
   "outputs": [],
   "source": [
    "[[True Negative (TN), False Positive (FP)]\n",
    " [False Negative (FN), True Positive (TP)]]\n"
   ]
  }
 ],
 "metadata": {
  "kernelspec": {
   "display_name": "base",
   "language": "python",
   "name": "python3"
  },
  "language_info": {
   "codemirror_mode": {
    "name": "ipython",
    "version": 3
   },
   "file_extension": ".py",
   "mimetype": "text/x-python",
   "name": "python",
   "nbconvert_exporter": "python",
   "pygments_lexer": "ipython3",
   "version": "3.11.5"
  }
 },
 "nbformat": 4,
 "nbformat_minor": 2
}
